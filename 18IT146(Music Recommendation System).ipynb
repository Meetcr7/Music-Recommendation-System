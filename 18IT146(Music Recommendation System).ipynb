{
  "nbformat": 4,
  "nbformat_minor": 0,
  "metadata": {
    "colab": {
      "name": "Untitled0.ipynb",
      "provenance": []
    },
    "kernelspec": {
      "name": "python3",
      "display_name": "Python 3"
    },
    "language_info": {
      "name": "python"
    }
  },
  "cells": [
    {
      "cell_type": "code",
      "metadata": {
        "id": "tvkX_6-P3mhC"
      },
      "source": [
        "import pandas as pd\n",
        "\n",
        "from google.colab import drive\n",
        "drive.mount('/content/drive')\n",
        "\n",
        "# to import data from google drive\n",
        "path = \"/content/drive/My Drive/Music Recommendation/song_data.csv\"\n",
        "\n",
        "# read data from song_data.csv file\n",
        "song_data = pd.read_csv(path,\n",
        "usecols=['user_id','song_id','listen_count','title','artist','song']\n",
        ",dtype={'user_id':'str','song_id':'str','listen_count':'int32',\n",
        "'title':'str','artist':'str','song':'str'})\n",
        "\n",
        "# to fetch only required column from dataset\n",
        "song_data = song_data[['song','listen_count']]\n",
        "\n",
        "# use groupby().sum() to make 'song' column unique and to count\n",
        "# it's respective sum of listen_count\n",
        "song_data = song_data.groupby('song').sum()\n",
        "\n",
        "# now sort above data by descending order of listen_count\n",
        "song_data.sort_values(by=['listen_count'], inplace=True, ascending=False)\n",
        "\n",
        "# reset index of changed data\n",
        "song_data = song_data.reset_index()\n",
        "\n",
        "song_data.head(10)\n",
        "\n",
        "# function to recommend new songs\n",
        "def Music_Recommendation(song_name, k):\n",
        "  # to convert dataframe into array\n",
        "  song_list = (song_data['song']).to_list()\n",
        "  # to check if song selected by user is available?\n",
        "  if song_name in song_list :\n",
        "     print(\"Song \"+\"'\"+song_name+\"'\"+\" is available\")\n",
        "     song_index = (song_list.index(song_name))\n",
        "     # total listen count of the song which is selected by user\n",
        "     song_listen_count = (song_data['listen_count'].iloc[song_index])\n",
        "     new_distance_list = []\n",
        "     for i in range(len(song_data)):\n",
        "        if i != song_index :\n",
        "          # calculate euclidean distance\n",
        "          abs_distance = abs(song_listen_count -song_data['listen_count'][i])\n",
        "          new_distance_list.append([abs_distance,song_data['song'][i]])\n",
        "     # to sort distance list by ascending order\n",
        "     new_distance_list = sorted(new_distance_list)\n",
        "     print(\"Top \" + str(k) + \" Recommendation for you.......\")\n",
        "     for i in range(k):\n",
        "          print(i+1,\")\",new_distance_list[i][1])\n",
        "  else:\n",
        "    print(\"Song \"+\"'\"+song_name+\"'\"+\" is not available\")\n",
        "    print(\"Top \" + str(k) + \" Recommendation for you.......\")\n",
        "    recommend_song = song_data[['song']].head(k)\n",
        "    for i in range(k):\n",
        "      print(i+1,\")\",recommend_song['song'][i])\n",
        "k = 10\n",
        "Music_Recommendation('Trahison By Vitalic', k)"
      ],
      "execution_count": null,
      "outputs": []
    }
  ]
}